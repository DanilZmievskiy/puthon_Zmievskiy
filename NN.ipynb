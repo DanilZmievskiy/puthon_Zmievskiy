{
 "cells": [
  {
   "cell_type": "code",
   "execution_count": 3,
   "metadata": {},
   "outputs": [
    {
     "name": "stderr",
     "output_type": "stream",
     "text": [
      "Using TensorFlow backend.\n"
     ]
    }
   ],
   "source": [
    "%matplotlib inline\n",
    "from keras.datasets import mnist\n",
    "import matplotlib.pyplot as plt\n",
    "import matplotlib.image as mpimg\n",
    "import numpy as np\n",
    "import scipy.special\n",
    "import scipy.ndimage\n",
    "import scipy.signal\n",
    "import sys\n",
    "from random import *"
   ]
  },
  {
   "cell_type": "code",
   "execution_count": 4,
   "metadata": {},
   "outputs": [],
   "source": [
    " (x_train, y_train), (x_test, y_test) = mnist.load_data()"
   ]
  },
  {
   "cell_type": "code",
   "execution_count": 5,
   "metadata": {},
   "outputs": [],
   "source": [
    "class NN:\n",
    "    def __init__(self, rate, inputs, hiddens, outputs):\n",
    "        #Добавляем 1 вход под bias\n",
    "        self.i_count = inputs + 1\n",
    "        self.h_count = hiddens\n",
    "        self.o_count = outputs\n",
    "        #Заполняем массивы весов рандомом\n",
    "        self.w_ih = np.random.normal(0.0, pow(self.h_count, -0.5), (self.h_count, self.i_count))\n",
    "        self.w_ho = np.random.normal(0.0, pow(self.o_count, -0.5), (self.o_count, self.h_count))\n",
    "        #learning rate и сигмоид\n",
    "        self.lr = rate\n",
    "        self.activation_function = lambda x: scipy.special.expit(x)\n",
    "        \n",
    "    def train(self, inputs_list, targets_list):\n",
    "        #Добавляем 1 вход под bias\n",
    "        inputs_list = np.concatenate((inputs_list, [1]), axis=0)\n",
    "        #Вектор-столбцы входных данных и правильных ответов\n",
    "        inputs = np.array(inputs_list, ndmin=2).T\n",
    "        targets = np.array(targets_list, ndmin=2).T\n",
    "        #Прямое распространение, сигмоид и линеар\n",
    "        hid_results = self.activation_function(np.dot(self.w_ih, inputs))\n",
    "        out_results = self.activation_function(np.dot(self.w_ho, hid_results))\n",
    "        #ошибка обучения (Training Erorr)\n",
    "        out_errors = (targets - out_results)\n",
    "        #ошибки скрытого слоя\n",
    "        hid_errors = np.dot(self.w_ho.T, out_errors)\n",
    "        #поправки для весов скрытый-выход\n",
    "        self.w_ho += self.lr * np.dot(out_errors * out_results * (1.0 - out_results), np.transpose(hid_results))\n",
    "        #поправки для весов вход-скрытый\n",
    "        self.w_ih += self.lr * np.dot((hid_errors * hid_results * (1.0 - hid_results)), np.transpose(inputs))\n",
    "        \n",
    "    def query(self, inputs_list):\n",
    "        #добавляем 1 вход под bias\n",
    "        inputs_list = np.concatenate((inputs_list, [1]), axis=0)\n",
    "        #вектор-столбец входных данных\n",
    "        inputs = np.array(inputs_list, ndmin=2).T\n",
    "        #прямое распространение, сигмоид и линеар\n",
    "        hid_results = self.activation_function(np.dot(self.w_ih, inputs))\n",
    "        out_results = self.activation_function(np.dot(self.w_ho, hid_results))\n",
    "        return out_results\n",
    "    \n",
    "    def set_lr(self, rate):\n",
    "        self.lr = rate"
   ]
  },
  {
   "cell_type": "code",
   "execution_count": 6,
   "metadata": {},
   "outputs": [],
   "source": [
    "nn = NN(0.1, 784, 100, 10)"
   ]
  },
  {
   "cell_type": "code",
   "execution_count": 8,
   "metadata": {},
   "outputs": [
    {
     "name": "stdout",
     "output_type": "stream",
     "text": [
      "1\n"
     ]
    },
    {
     "data": {
      "text/plain": [
       "<matplotlib.image.AxesImage at 0x7feaf587d358>"
      ]
     },
     "execution_count": 8,
     "metadata": {},
     "output_type": "execute_result"
    },
    {
     "data": {
      "image/png": "[encoded data removed]",
      "text/plain": [
       "<Figure size 432x288 with 1 Axes>"
      ]
     },
     "metadata": {
      "needs_background": "light"
     },
     "output_type": "display_data"
    }
   ],
   "source": [
    "n = 102\n",
    "print(y_train[n])\n",
    "plt.imshow(225-x_train[n]/225, cmap='gray')"
   ]
  },
  {
   "cell_type": "code",
   "execution_count": 10,
   "metadata": {},
   "outputs": [],
   "source": [
    " def predict(n):\n",
    "        query = np.array(x_train[n]/255).reshape(784)\n",
    "        return nn.query(query)"
   ]
  },
  {
   "cell_type": "code",
   "execution_count": 20,
   "metadata": {
    "scrolled": false
   },
   "outputs": [
    {
     "data": {
      "text/plain": [
       "1"
      ]
     },
     "execution_count": 20,
     "metadata": {},
     "output_type": "execute_result"
    }
   ],
   "source": [
    "predict(n).argmax()"
   ]
  },
  {
   "cell_type": "code",
   "execution_count": 11,
   "metadata": {},
   "outputs": [],
   "source": [
    "def learn(n):\n",
    "    target = np.zeros(10)\n",
    "    target[y_train[n]] = 1\n",
    "    query = np.array(x_train[n]/255).reshape(784)\n",
    "    nn.train(query, target)"
   ]
  },
  {
   "cell_type": "code",
   "execution_count": 12,
   "metadata": {},
   "outputs": [],
   "source": [
    "def epoch_train():\n",
    "    nn.set_lr(0.1)\n",
    "    x_train_len = len(x_train)\n",
    "    for n in range(x_train_len):\n",
    "        learn(n)\n",
    "        if n%100 == 0:\n",
    "            sys.stdout.write(\"Row: %s\\r\" % n)\n",
    "            sys.stdout.flush()"
   ]
  },
  {
   "cell_type": "code",
   "execution_count": 19,
   "metadata": {},
   "outputs": [
    {
     "name": "stdout",
     "output_type": "stream",
     "text": [
      "Row: 59900\r"
     ]
    }
   ],
   "source": [
    "epoch_train()"
   ]
  },
  {
   "cell_type": "code",
   "execution_count": 14,
   "metadata": {
    "scrolled": false
   },
   "outputs": [],
   "source": [
    "def test_NN():\n",
    "    correct = 0\n",
    "    x_test_len = len(x_test)\n",
    "    for n in range(x_test_len):\n",
    "        answers = predict(n)\n",
    "        if answers.argmax() == y_test[n]:\n",
    "            correct += 1\n",
    "    return correct/(n+1)"
   ]
  },
  {
   "cell_type": "code",
   "execution_count": 23,
   "metadata": {},
   "outputs": [
    {
     "data": {
      "text/plain": [
       "0.0981"
      ]
     },
     "execution_count": 23,
     "metadata": {},
     "output_type": "execute_result"
    }
   ],
   "source": [
    "test_NN()"
   ]
  },
  {
   "cell_type": "code",
   "execution_count": 21,
   "metadata": {},
   "outputs": [],
   "source": [
    "def test_train_NN():\n",
    "    correct = 0\n",
    "    x_train_len = len(x_train)\n",
    "    for n in range(x_train_len):\n",
    "        answers = predict(n)\n",
    "        if answers.argmax() == y_train[n]:\n",
    "            correct += 1\n",
    "    return correct/(n+1)"
   ]
  },
  {
   "cell_type": "code",
   "execution_count": 22,
   "metadata": {},
   "outputs": [
    {
     "data": {
      "text/plain": [
       "0.96735"
      ]
     },
     "execution_count": 22,
     "metadata": {},
     "output_type": "execute_result"
    }
   ],
   "source": [
    "test_train_NN()"
   ]
  }
 ],
 "metadata": {
  "kernelspec": {
   "display_name": "Python 3",
   "language": "python",
   "name": "python3"
  },
  "language_info": {
   "codemirror_mode": {
    "name": "ipython",
    "version": 3
   },
   "file_extension": ".py",
   "mimetype": "text/x-python",
   "name": "python",
   "nbconvert_exporter": "python",
   "pygments_lexer": "ipython3",
   "version": "3.7.2"
  }
 },
 "nbformat": 4,
 "nbformat_minor": 2
}
